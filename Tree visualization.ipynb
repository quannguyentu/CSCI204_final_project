{
 "cells": [
  {
   "cell_type": "code",
   "execution_count": 15,
   "metadata": {
    "collapsed": true
   },
   "outputs": [
    {
     "data": {
      "text/html": "<div class=\"toyplot\" id=\"t428b0c2b3d4c47c8af547f548fb6248b\" style=\"text-align:center\"><svg class=\"toyplot-canvas-Canvas\" xmlns:toyplot=\"http://www.sandia.gov/toyplot\" xmlns:xlink=\"http://www.w3.org/1999/xlink\" xmlns=\"http://www.w3.org/2000/svg\" width=\"275.0px\" height=\"275.0px\" viewBox=\"0 0 275.0 275.0\" preserveAspectRatio=\"xMidYMid meet\" style=\"background-color:transparent;border-color:#292724;border-style:none;border-width:1.0;fill:rgb(16.1%,15.3%,14.1%);fill-opacity:1.0;font-family:Helvetica;font-size:12px;opacity:1.0;stroke:rgb(16.1%,15.3%,14.1%);stroke-opacity:1.0;stroke-width:1.0\" id=\"tc8715f1618904b56849a7c3d9645e4c4\"><g class=\"toyplot-coordinates-Cartesian\" id=\"tc2732442ad56402a959e4a70bf2e2d65\"><clipPath id=\"tfde0776c446b4339b9e04fec39a417c2\"><rect x=\"30.0\" y=\"30.0\" width=\"215.0\" height=\"215.0\"></rect></clipPath><g clip-path=\"url(#tfde0776c446b4339b9e04fec39a417c2)\"><g class=\"toytree-mark-Toytree\" id=\"t957e6fcf8ef941e695f5e87b486002cd\"><g class=\"toytree-Edges\" style=\"fill:none;stroke:rgb(14.9%,14.9%,14.9%);stroke-linecap:round;stroke-opacity:1;stroke-width:2\"><path d=\"M 51.5 108.8 L 51.5 156.6 L 91.1 156.6\" id=\"8,7\"></path><path d=\"M 91.1 156.6 L 91.1 118.4 L 130.8 118.4\" id=\"7,6\"></path><path d=\"M 91.1 156.6 L 91.1 194.9 L 117.6 194.9\" id=\"7,5\"></path><path d=\"M 51.5 108.8 L 51.5 61.0 L 144.0 61.0\" id=\"8,4\"></path><path d=\"M 130.8 118.4 L 130.8 99.3 L 157.2 99.3\" id=\"6,3\"></path><path d=\"M 130.8 118.4 L 130.8 137.5 L 170.4 137.5\" id=\"6,2\"></path><path d=\"M 117.6 194.9 L 117.6 175.7 L 183.6 175.7\" id=\"5,1\"></path><path d=\"M 117.6 194.9 L 117.6 214.0 L 157.2 214.0\" id=\"5,0\"></path></g><g class=\"toytree-AlignEdges\" style=\"stroke:rgb(66.3%,66.3%,66.3%);stroke-dasharray:2, 4;stroke-linecap:round;stroke-opacity:1.0;stroke-width:2\"><path d=\"M 183.6 214.0 L 157.2 214.0\"></path><path d=\"M 183.6 175.7 L 183.6 175.7\"></path><path d=\"M 183.6 137.5 L 170.4 137.5\"></path><path d=\"M 183.6 99.3 L 157.2 99.3\"></path><path d=\"M 183.6 61.0 L 144.0 61.0\"></path></g><g class=\"toytree-TipLabels\" style=\"fill:rgb(14.9%,14.9%,14.9%);fill-opacity:1.0;font-family:helvetica;font-size:11px;font-weight:normal;stroke:none;white-space:pre\"><g transform=\"translate(183.60,213.99)rotate(0)\"><text x=\"15.00\" y=\"2.81\" style=\"\">Four</text></g><g transform=\"translate(183.60,175.74)rotate(0)\"><text x=\"15.00\" y=\"2.81\" style=\"\">Three</text></g><g transform=\"translate(183.60,137.50)rotate(0)\"><text x=\"15.00\" y=\"2.81\" style=\"\">Two</text></g><g transform=\"translate(183.60,99.26)rotate(0)\"><text x=\"15.00\" y=\"2.81\" style=\"\">One</text></g><g transform=\"translate(183.60,61.01)rotate(0)\"><text x=\"15.00\" y=\"2.81\" style=\"\">Five</text></g></g></g></g></g></svg><div class=\"toyplot-behavior\"><script>(function()\n{\nvar modules={};\n})();</script></div></div>"
     },
     "metadata": {},
     "output_type": "display_data"
    }
   ],
   "source": [
    "import toytree       # a tree plotting library\n",
    "import toyplot       # a general plotting library\n",
    "import numpy as np   # numerical library\n",
    "from ete3 import Tree\n",
    "newick = \"(((One:0.2,Two:0.3):0.3,(Three:0.5,Four:0.3):0.2):0.3,Five:0.7):0.0;\"\n",
    "tre0 = toytree.tree(newick, tree_format=0)\n",
    "tre0.draw(tip_labels_align=True);"
   ]
  }
 ],
 "metadata": {
  "kernelspec": {
   "display_name": "Python 3",
   "language": "python",
   "name": "python3"
  },
  "language_info": {
   "codemirror_mode": {
    "name": "ipython",
    "version": 2
   },
   "file_extension": ".py",
   "mimetype": "text/x-python",
   "name": "python",
   "nbconvert_exporter": "python",
   "pygments_lexer": "ipython2",
   "version": "2.7.6"
  }
 },
 "nbformat": 4,
 "nbformat_minor": 0
}